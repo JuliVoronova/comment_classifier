{
  "cells": [
    {
      "cell_type": "markdown",
      "metadata": {
        "id": "-C-8D6V52HU4"
      },
      "source": [
        "# Цель проекта"
      ]
    },
    {
      "cell_type": "markdown",
      "metadata": {
        "id": "5uoWr6oV2HU4"
      },
      "source": [
        "Обучить модель классифицировать комментарии на позитивные и негативные.\n",
        "Построить модель со значением метрики качества *F1* не меньше 0.75."
      ]
    },
    {
      "cell_type": "markdown",
      "metadata": {
        "id": "U_gtxfK-2HU4"
      },
      "source": [
        "## Подготовка"
      ]
    },
    {
      "cell_type": "code",
      "execution_count": null,
      "metadata": {
        "colab": {
          "base_uri": "https://localhost:8080/"
        },
        "id": "8LGI7SRR2HU4",
        "outputId": "9bdb7592-1d11-4705-faed-51652e91cea5"
      },
      "outputs": [
        {
          "name": "stdout",
          "output_type": "stream",
          "text": [
            "Collecting imblearn\n",
            "  Downloading imblearn-0.0-py2.py3-none-any.whl (1.9 kB)\n",
            "Collecting imbalanced-learn\n",
            "  Downloading imbalanced_learn-0.11.0-py3-none-any.whl (235 kB)\n",
            "\u001b[K     |████████████████████████████████| 235 kB 1.1 MB/s eta 0:00:01\n",
            "\u001b[?25hRequirement already satisfied: scipy>=1.5.0 in /opt/conda/lib/python3.9/site-packages (from imbalanced-learn->imblearn) (1.9.1)\n",
            "Requirement already satisfied: threadpoolctl>=2.0.0 in /opt/conda/lib/python3.9/site-packages (from imbalanced-learn->imblearn) (3.1.0)\n",
            "Collecting joblib>=1.1.1\n",
            "  Downloading joblib-1.3.1-py3-none-any.whl (301 kB)\n",
            "\u001b[K     |████████████████████████████████| 301 kB 12.8 MB/s eta 0:00:01\n",
            "\u001b[?25hCollecting scikit-learn>=1.0.2\n",
            "  Downloading scikit_learn-1.3.0-cp39-cp39-manylinux_2_17_x86_64.manylinux2014_x86_64.whl (10.9 MB)\n",
            "\u001b[K     |████████████████████████████████| 10.9 MB 35.6 MB/s eta 0:00:01\n",
            "\u001b[?25hRequirement already satisfied: numpy>=1.17.3 in /opt/conda/lib/python3.9/site-packages (from imbalanced-learn->imblearn) (1.21.1)\n",
            "Installing collected packages: joblib, scikit-learn, imbalanced-learn, imblearn\n",
            "  Attempting uninstall: joblib\n",
            "    Found existing installation: joblib 1.1.0\n",
            "    Uninstalling joblib-1.1.0:\n",
            "      Successfully uninstalled joblib-1.1.0\n",
            "  Attempting uninstall: scikit-learn\n",
            "    Found existing installation: scikit-learn 0.24.1\n",
            "    Uninstalling scikit-learn-0.24.1:\n",
            "      Successfully uninstalled scikit-learn-0.24.1\n",
            "Successfully installed imbalanced-learn-0.11.0 imblearn-0.0 joblib-1.3.1 scikit-learn-1.3.0\n"
          ]
        }
      ],
      "source": [
        "!pip install imblearn"
      ]
    },
    {
      "cell_type": "code",
      "execution_count": null,
      "metadata": {
        "colab": {
          "base_uri": "https://localhost:8080/"
        },
        "id": "GH3Oss_j2HU5",
        "outputId": "0aa1f647-6180-4892-9f65-cbc6e2c12d06"
      },
      "outputs": [
        {
          "name": "stderr",
          "output_type": "stream",
          "text": [
            "[nltk_data] Downloading package stopwords to /home/jovyan/nltk_data...\n",
            "[nltk_data]   Package stopwords is already up-to-date!\n",
            "[nltk_data] Downloading package wordnet to /home/jovyan/nltk_data...\n",
            "[nltk_data]   Package wordnet is already up-to-date!\n",
            "[nltk_data] Downloading package averaged_perceptron_tagger to\n",
            "[nltk_data]     /home/jovyan/nltk_data...\n",
            "[nltk_data]   Unzipping taggers/averaged_perceptron_tagger.zip.\n",
            "[nltk_data] Downloading package punkt to /home/jovyan/nltk_data...\n",
            "[nltk_data]   Package punkt is already up-to-date!\n"
          ]
        }
      ],
      "source": [
        "import pandas as pd\n",
        "import numpy as np\n",
        "import matplotlib.pyplot as plt\n",
        "import re\n",
        "import seaborn as sns\n",
        "\n",
        "import nltk\n",
        "from nltk.corpus import stopwords as nltk_stopwords\n",
        "nltk.download('stopwords')\n",
        "stopwords = set(nltk_stopwords.words('english'))\n",
        "nltk.download('wordnet')\n",
        "from nltk.stem import WordNetLemmatizer\n",
        "from nltk.corpus import wordnet\n",
        "nltk.download('averaged_perceptron_tagger')\n",
        "nltk.download('punkt')\n",
        "\n",
        "from sklearn.model_selection import (\n",
        "    train_test_split,\n",
        "    cross_val_score,\n",
        "    GridSearchCV)\n",
        "\n",
        "\n",
        "from sklearn.linear_model import LogisticRegression\n",
        "from sklearn.tree import DecisionTreeClassifier\n",
        "from sklearn.ensemble import RandomForestClassifier\n",
        "from sklearn.pipeline import Pipeline\n",
        "from sklearn.feature_extraction.text import TfidfVectorizer\n",
        "import lightgbm as lgb\n",
        "from lightgbm import LGBMClassifier\n",
        "\n",
        "\n",
        "from sklearn.metrics import (\n",
        "    f1_score,\n",
        "    confusion_matrix)\n",
        "\n",
        "from sklearn.feature_extraction.text import (\n",
        "    TfidfVectorizer,\n",
        "    CountVectorizer)\n",
        "\n",
        "\n",
        "import warnings\n",
        "warnings.filterwarnings('ignore')"
      ]
    },
    {
      "cell_type": "code",
      "execution_count": null,
      "metadata": {
        "id": "KwMFvrSu2HU6"
      },
      "outputs": [],
      "source": [
        "try:\n",
        "    data = pd.read_csv('/datasets/toxic_comments.csv', index_col=0)\n",
        "except:\n",
        "    data = pd.read_csv('/content/toxic_comments (1).csv', index_col=0)"
      ]
    },
    {
      "cell_type": "code",
      "execution_count": null,
      "metadata": {
        "colab": {
          "base_uri": "https://localhost:8080/",
          "height": 363
        },
        "id": "jm0Na4LO5kSb",
        "outputId": "a6508147-c6e6-4454-f3a6-11589b8be592"
      },
      "outputs": [
        {
          "data": {
            "text/html": [
              "<div>\n",
              "<style scoped>\n",
              "    .dataframe tbody tr th:only-of-type {\n",
              "        vertical-align: middle;\n",
              "    }\n",
              "\n",
              "    .dataframe tbody tr th {\n",
              "        vertical-align: top;\n",
              "    }\n",
              "\n",
              "    .dataframe thead th {\n",
              "        text-align: right;\n",
              "    }\n",
              "</style>\n",
              "<table border=\"1\" class=\"dataframe\">\n",
              "  <thead>\n",
              "    <tr style=\"text-align: right;\">\n",
              "      <th></th>\n",
              "      <th>text</th>\n",
              "      <th>toxic</th>\n",
              "    </tr>\n",
              "  </thead>\n",
              "  <tbody>\n",
              "    <tr>\n",
              "      <th>124932</th>\n",
              "      <td>i suggest my balls in yer mouth - no page no r...</td>\n",
              "      <td>1</td>\n",
              "    </tr>\n",
              "    <tr>\n",
              "      <th>114733</th>\n",
              "      <td>Unreliable \\n\\nThis article contains dubious i...</td>\n",
              "      <td>0</td>\n",
              "    </tr>\n",
              "    <tr>\n",
              "      <th>123505</th>\n",
              "      <td>I am referencing the Oxford Dictionary of Phil...</td>\n",
              "      <td>0</td>\n",
              "    </tr>\n",
              "    <tr>\n",
              "      <th>34866</th>\n",
              "      <td>The map was used by the US government   at the...</td>\n",
              "      <td>0</td>\n",
              "    </tr>\n",
              "    <tr>\n",
              "      <th>38221</th>\n",
              "      <td>General query \\n\\nHey. Hi. Hope you are fine. ...</td>\n",
              "      <td>0</td>\n",
              "    </tr>\n",
              "    <tr>\n",
              "      <th>10823</th>\n",
              "      <td>No, this isn't a game walkthrough. 60.242.127.62</td>\n",
              "      <td>0</td>\n",
              "    </tr>\n",
              "    <tr>\n",
              "      <th>48360</th>\n",
              "      <td>its not vandalism\\nsee the soursec, it is simp...</td>\n",
              "      <td>0</td>\n",
              "    </tr>\n",
              "    <tr>\n",
              "      <th>85614</th>\n",
              "      <td>\"\\n\\n Request for third opinion \\n\\nHi Thehist...</td>\n",
              "      <td>0</td>\n",
              "    </tr>\n",
              "    <tr>\n",
              "      <th>88564</th>\n",
              "      <td>I am not edit warring.  A conscensus has been ...</td>\n",
              "      <td>0</td>\n",
              "    </tr>\n",
              "    <tr>\n",
              "      <th>18067</th>\n",
              "      <td>\"\\n\\nOK, that's fine...I won't argue that \"\"It...</td>\n",
              "      <td>0</td>\n",
              "    </tr>\n",
              "  </tbody>\n",
              "</table>\n",
              "</div>"
            ],
            "text/plain": [
              "                                                     text  toxic\n",
              "124932  i suggest my balls in yer mouth - no page no r...      1\n",
              "114733  Unreliable \\n\\nThis article contains dubious i...      0\n",
              "123505  I am referencing the Oxford Dictionary of Phil...      0\n",
              "34866   The map was used by the US government   at the...      0\n",
              "38221   General query \\n\\nHey. Hi. Hope you are fine. ...      0\n",
              "10823    No, this isn't a game walkthrough. 60.242.127.62      0\n",
              "48360   its not vandalism\\nsee the soursec, it is simp...      0\n",
              "85614   \"\\n\\n Request for third opinion \\n\\nHi Thehist...      0\n",
              "88564   I am not edit warring.  A conscensus has been ...      0\n",
              "18067   \"\\n\\nOK, that's fine...I won't argue that \"\"It...      0"
            ]
          },
          "execution_count": 4,
          "metadata": {},
          "output_type": "execute_result"
        }
      ],
      "source": [
        "data.sample(10)"
      ]
    },
    {
      "cell_type": "code",
      "execution_count": null,
      "metadata": {
        "colab": {
          "base_uri": "https://localhost:8080/"
        },
        "id": "aUTt67JP2HU6",
        "outputId": "61340f7f-d5e6-4e52-9f0a-d5cdf188b0a4"
      },
      "outputs": [
        {
          "data": {
            "text/plain": [
              "(159292, 2)"
            ]
          },
          "execution_count": 5,
          "metadata": {},
          "output_type": "execute_result"
        }
      ],
      "source": [
        "data.shape"
      ]
    },
    {
      "cell_type": "code",
      "execution_count": null,
      "metadata": {
        "colab": {
          "base_uri": "https://localhost:8080/"
        },
        "id": "F5pIPyyK2HU6",
        "outputId": "74602924-83cc-4cce-eea7-d7362a116fe5",
        "scrolled": true
      },
      "outputs": [
        {
          "data": {
            "text/plain": [
              "0    143106\n",
              "1     16186\n",
              "Name: toxic, dtype: int64"
            ]
          },
          "execution_count": 6,
          "metadata": {},
          "output_type": "execute_result"
        }
      ],
      "source": [
        "data['toxic'].value_counts()"
      ]
    },
    {
      "cell_type": "code",
      "execution_count": null,
      "metadata": {
        "colab": {
          "base_uri": "https://localhost:8080/",
          "height": 429
        },
        "id": "xAq9JpLa6HPT",
        "outputId": "cc45b273-4bf4-4cf8-8ff5-f1c2570d05f7"
      },
      "outputs": [
        {
          "data": {
            "image/png": "[encoded data removed]",
            "text/plain": [
              "<Figure size 432x288 with 1 Axes>"
            ]
          },
          "metadata": {},
          "output_type": "display_data"
        }
      ],
      "source": [
        "data['toxic'].value_counts().plot(kind='pie');\n",
        "plt.title('График распределения классов в выборке');\n",
        "plt.legend();"
      ]
    },
    {
      "cell_type": "markdown",
      "metadata": {
        "id": "EqdLQEfE2HU7"
      },
      "source": [
        "Видно, что есть дисбаланс классов. Чтобы повысить качество предсказаний, можно прибегнуть к методам балансировки."
      ]
    },
    {
      "cell_type": "code",
      "execution_count": null,
      "metadata": {
        "colab": {
          "base_uri": "https://localhost:8080/"
        },
        "id": "S-gY5UwZ7r_l",
        "outputId": "5f9641ff-cccb-463c-c657-162a2df414fd"
      },
      "outputs": [
        {
          "name": "stdout",
          "output_type": "stream",
          "text": [
            "<class 'pandas.core.frame.DataFrame'>\n",
            "Int64Index: 159292 entries, 0 to 159450\n",
            "Data columns (total 2 columns):\n",
            " #   Column  Non-Null Count   Dtype \n",
            "---  ------  --------------   ----- \n",
            " 0   text    159292 non-null  object\n",
            " 1   toxic   159292 non-null  int64 \n",
            "dtypes: int64(1), object(1)\n",
            "memory usage: 3.6+ MB\n"
          ]
        }
      ],
      "source": [
        "data.info()"
      ]
    },
    {
      "cell_type": "code",
      "execution_count": null,
      "metadata": {
        "colab": {
          "base_uri": "https://localhost:8080/"
        },
        "id": "Wx1XJQE17_VI",
        "outputId": "80ee111c-68d7-4471-f836-26d4b15c4869"
      },
      "outputs": [
        {
          "data": {
            "text/plain": [
              "text     0\n",
              "toxic    0\n",
              "dtype: int64"
            ]
          },
          "execution_count": 9,
          "metadata": {},
          "output_type": "execute_result"
        }
      ],
      "source": [
        "data.isna().sum()"
      ]
    },
    {
      "cell_type": "code",
      "execution_count": null,
      "metadata": {
        "colab": {
          "base_uri": "https://localhost:8080/"
        },
        "id": "mCGwez6U8LJu",
        "outputId": "f968df03-8919-4c60-bd2e-620e2930707b"
      },
      "outputs": [
        {
          "data": {
            "text/plain": [
              "0"
            ]
          },
          "execution_count": 10,
          "metadata": {},
          "output_type": "execute_result"
        }
      ],
      "source": [
        "data.duplicated().sum()"
      ]
    },
    {
      "cell_type": "markdown",
      "metadata": {
        "id": "T2FopFMF8Ea9"
      },
      "source": [
        "Пропуски и явные дубликаты отсутствуют. Выбока содержит 2 типа данных: int и obj."
      ]
    },
    {
      "cell_type": "code",
      "execution_count": null,
      "metadata": {
        "id": "eyzdtGla2HU7"
      },
      "outputs": [],
      "source": [
        "# функция получения POS-тега для слова\n",
        "\n",
        "def get_wordnet_pos(word):\n",
        "    tag = nltk.pos_tag([word])[0][1][0].upper()\n",
        "    tag_dict = {\"J\": wordnet.ADJ,\n",
        "                \"N\": wordnet.NOUN,\n",
        "                \"V\": wordnet.VERB,\n",
        "                \"R\": wordnet.ADV}\n",
        "    return tag_dict.get(tag, wordnet.NOUN)"
      ]
    },
    {
      "cell_type": "code",
      "execution_count": null,
      "metadata": {
        "id": "b5W6Q7qYFec9"
      },
      "outputs": [],
      "source": [
        "# функция лемматизации\n",
        "# функция идёт построчно, пусть каждая строка - это предложение\n",
        "\n",
        "def lemmatize(sentence):\n",
        "    lemmatizer = WordNetLemmatizer()\n",
        "\n",
        "    # разбили предложение на слова\n",
        "    word_list = nltk.word_tokenize(sentence)\n",
        "\n",
        "    # лемматизировали каждое слово\n",
        "    lemm_sentence = \" \".join([lemmatizer.lemmatize(w, get_wordnet_pos(w)) for w in word_list])\n",
        "\n",
        "    return lemm_sentence"
      ]
    },
    {
      "cell_type": "code",
      "execution_count": null,
      "metadata": {
        "id": "P75wpIKn2HU7"
      },
      "outputs": [],
      "source": [
        "# приведём к нижнему регистру\n",
        "\n",
        "data['text'] = data['text'].apply(lambda s: s.lower())\n",
        "\n",
        "# очистка текста по шаблону\n",
        "\n",
        "def clean_text(text):\n",
        "    clean_list = re.sub(r'[^a-zA-Z]', ' ', text)\n",
        "    clean_text = \" \".join(text.split())\n",
        "\n",
        "    return clean_text"
      ]
    },
    {
      "cell_type": "code",
      "execution_count": null,
      "metadata": {
        "colab": {
          "base_uri": "https://localhost:8080/",
          "height": 85,
          "referenced_widgets": [
            "7a9a92d77242465cbdebf75d7e7009b2",
            "ae1ccb3bddcd4936bf2741572fca6781",
            "54ae093f81b446678f755c88ce3dd23a",
            "67dfbadf810646c081865a34c00eeddf",
            "5d911e8597a5499681ee5cb1eb00309b",
            "55cae0084c41434e93e206085551784b",
            "d776f1469ba040f1b52362793d1a561b",
            "3979e49ff4bb429aa2e442560ab59bfd",
            "13820b7e69df486a8d66f96efc99836d",
            "8a003d71578045408efa1ad3a4c20830",
            "276ecf3a30894892bfab877ad58257c2",
            "1a37efeea4b94e1dadf0ae932902fde2"
          ]
        },
        "id": "HveiEyPE2HU7",
        "outputId": "dac9043a-dabc-4d6c-f878-9fcd1d8c7457",
        "scrolled": true
      },
      "outputs": [
        {
          "data": {
            "application/vnd.jupyter.widget-view+json": {
              "model_id": "1a37efeea4b94e1dadf0ae932902fde2",
              "version_major": 2,
              "version_minor": 0
            },
            "text/plain": [
              "  0%|          | 0/159292 [00:00<?, ?it/s]"
            ]
          },
          "metadata": {},
          "output_type": "display_data"
        },
        {
          "name": "stdout",
          "output_type": "stream",
          "text": [
            "CPU times: user 4.57 s, sys: 154 ms, total: 4.73 s\n",
            "Wall time: 4.99 s\n"
          ]
        }
      ],
      "source": [
        "%%time\n",
        "\n",
        "from tqdm.notebook import tqdm\n",
        "tqdm.pandas()\n",
        "\n",
        "data['text']=data['text'].progress_apply(clean_text)"
      ]
    },
    {
      "cell_type": "code",
      "execution_count": null,
      "metadata": {
        "id": "1aAUskBDJ5Lh",
        "scrolled": true
      },
      "outputs": [],
      "source": [
        "%%time\n",
        "\n",
        "# лемматизируем\n",
        "\n",
        "data['text']=data['text'].progress_apply(lemmatize)"
      ]
    },
    {
      "cell_type": "code",
      "execution_count": null,
      "metadata": {
        "colab": {
          "base_uri": "https://localhost:8080/"
        },
        "id": "5SiGYXm22HU8",
        "outputId": "89071c47-a95b-4a90-bf3a-e90de2cce41b",
        "scrolled": true
      },
      "outputs": [
        {
          "data": {
            "text/plain": [
              "0         explanation why the edits made under my userna...\n",
              "1         d'aww! he matches this background colour i'm s...\n",
              "2         hey man, i'm really not trying to edit war. it...\n",
              "3         \" more i can't make any real suggestions on im...\n",
              "4         you, sir, are my hero. any chance you remember...\n",
              "                                ...                        \n",
              "159446    \":::::and for the second time of asking, when ...\n",
              "159447    you should be ashamed of yourself that is a ho...\n",
              "159448    spitzer umm, theres no actual article for pros...\n",
              "159449    and it looks like it was actually you who put ...\n",
              "159450    \" and ... i really don't think you understand....\n",
              "Name: text, Length: 159292, dtype: object"
            ]
          },
          "execution_count": 20,
          "metadata": {},
          "output_type": "execute_result"
        }
      ],
      "source": [
        "data['text']"
      ]
    },
    {
      "cell_type": "code",
      "execution_count": null,
      "metadata": {
        "id": "BZHGupiN2HU8"
      },
      "outputs": [],
      "source": [
        "# разобьём на выборки, создадим признаки\n",
        "\n",
        "features = data['text'].values\n",
        "target = data['toxic']"
      ]
    },
    {
      "cell_type": "code",
      "execution_count": null,
      "metadata": {
        "id": "Cz-5LzPT2HU8"
      },
      "outputs": [],
      "source": [
        "features_train, features_test, target_train, target_test = train_test_split(\n",
        "    features,\n",
        "    target,\n",
        "    test_size = 0.2,\n",
        "    random_state=42,\n",
        "    stratify = target)"
      ]
    },
    {
      "cell_type": "code",
      "execution_count": null,
      "metadata": {
        "id": "t3LJSm7KaaY9",
        "outputId": "f764ece1-1efe-4736-bec2-8f6444756c1b"
      },
      "outputs": [
        {
          "data": {
            "text/plain": [
              "\"i'm withdrawing my support. i do not support wikipedia and have now indicated my wishes. as far as i am concerned, wikipedia is stealing my material.\""
            ]
          },
          "execution_count": 24,
          "metadata": {},
          "output_type": "execute_result"
        }
      ],
      "source": [
        "features_train[1]"
      ]
    },
    {
      "cell_type": "markdown",
      "metadata": {
        "id": "Lu9JnUbk2HU9"
      },
      "source": [
        "## Обучение"
      ]
    },
    {
      "cell_type": "markdown",
      "metadata": {
        "id": "Ybzd3OZv2HU9"
      },
      "source": [
        "### Логистическая регрессия"
      ]
    },
    {
      "cell_type": "code",
      "execution_count": null,
      "metadata": {
        "colab": {
          "base_uri": "https://localhost:8080/"
        },
        "id": "g4xBnaT5gf-K",
        "outputId": "4cd0d5b5-34ac-4f5c-e4e0-d904ead1482c"
      },
      "outputs": [
        {
          "name": "stdout",
          "output_type": "stream",
          "text": [
            "CPU times: user 2min 31s, sys: 1.28 s, total: 2min 32s\n",
            "Wall time: 2min 33s\n"
          ]
        },
        {
          "data": {
            "text/plain": [
              "0.7681630085613337"
            ]
          },
          "execution_count": 24,
          "metadata": {},
          "output_type": "execute_result"
        }
      ],
      "source": [
        "%%time\n",
        "\n",
        "params={'model__C':[1, 10, 1],\n",
        "        'model__penalty':['l1','l2']}\n",
        "        #'model__class_weight': ['balanced']}\n",
        "\n",
        "pipeline = Pipeline([\n",
        "    ('count_tf_idf', TfidfVectorizer(stop_words=list(stopwords), max_features = 7000)),\n",
        "    ('model', LogisticRegression(random_state=42))])\n",
        "\n",
        "\n",
        "\n",
        "lr_grid = GridSearchCV(pipeline, cv=4, n_jobs=-1, param_grid=params, scoring='f1')\n",
        "lr_grid.fit(features_train, target_train)\n",
        "lr_score=lr_grid.best_score_\n",
        "lr_score"
      ]
    },
    {
      "cell_type": "markdown",
      "metadata": {
        "id": "Ecd1-1Nq2HU-"
      },
      "source": [
        "### Случайный лес"
      ]
    },
    {
      "cell_type": "code",
      "execution_count": null,
      "metadata": {
        "id": "LQIkgRCrSGYb"
      },
      "outputs": [],
      "source": [
        "%%time\n",
        "\n",
        "params={'model__max_depth':[1, 10, 1],\n",
        "         'model__n_estimators':[10, 100, 10],\n",
        "         'model__class_weight':['balanced']}\n",
        "\n",
        "pipeline = Pipeline([\n",
        "    ('count_tf_idf', TfidfVectorizer(stop_words=list(stopwords), max_features = 7000)),\n",
        "    ('model', RandomForestClassifier(random_state=42))])\n",
        "\n",
        "\n",
        "\n",
        "rf_grid = GridSearchCV(pipeline, cv=4, n_jobs=-1, param_grid=params, scoring='f1')\n",
        "rf_grid.fit(features_train, target_train)\n",
        "rf_score = rf_grid.best_score_\n",
        "rf_score"
      ]
    },
    {
      "cell_type": "code",
      "execution_count": null,
      "metadata": {
        "colab": {
          "base_uri": "https://localhost:8080/"
        },
        "id": "kAq67A8xSvML",
        "outputId": "966244d5-6934-47d0-f621-067e784de46f"
      },
      "outputs": [
        {
          "data": {},
          "execution_count": 60,
          "metadata": {},
          "output_type": "execute_result"
        }
      ],
      "source": [
        "rf_grid.best_params_"
      ]
    },
    {
      "cell_type": "markdown",
      "metadata": {
        "id": "YkjeF1rJ2HU_"
      },
      "source": [
        "### Градиентный бустинг"
      ]
    },
    {
      "cell_type": "code",
      "execution_count": null,
      "metadata": {
        "id": "XIoFpoG92HU_"
      },
      "outputs": [],
      "source": [
        "%%time\n",
        "\n",
        "params={'model__n_estimators':[20, 35, 50],\n",
        "        'model__max_depth':[1, 3, 5]}\n",
        "\n",
        "pipeline = Pipeline([\n",
        "    ('count_tf_idf', TfidfVectorizer(stop_words=list(stopwords), max_features = 7000)),\n",
        "    ('model', LGBMClassifier(random_state=42))])\n",
        "\n",
        "\n",
        "\n",
        "gb_grid = GridSearchCV(pipeline, cv=4, n_jobs=-1, param_grid=params, scoring='f1')\n",
        "gb_grid.fit(features_train, target_train)\n",
        "gb_score=gb_grid.best_score_\n",
        "gb_score"
      ]
    },
    {
      "cell_type": "code",
      "execution_count": null,
      "metadata": {
        "colab": {
          "base_uri": "https://localhost:8080/"
        },
        "id": "FiYOr04T2HU_",
        "outputId": "60c5ea8c-c0eb-492a-e3a7-6a86c32bb287"
      },
      "outputs": [
        {
          "name": "stdout",
          "output_type": "stream",
          "text": [
            "Метрика F1 на тестовых данных  0.7722260509993109\n"
          ]
        }
      ],
      "source": [
        "# тестирование\n",
        "\n",
        "score_test = lr_grid.score(features_test, target_test)\n",
        "print(f'Метрика F1 на тестовых данных  {score_test}')"
      ]
    },
    {
      "cell_type": "markdown",
      "metadata": {
        "id": "2G2Utpz62HVA"
      },
      "source": [
        "## Выводы"
      ]
    },
    {
      "cell_type": "markdown",
      "metadata": {
        "id": "DdtKgMS52HVA"
      },
      "source": [
        "Моей целью было найти и обучить модель, которая способна классифицировать комментарии на позитивные и негативные для того, чтобы в дальнейшем токсичные отзывы отправлялись на модерацию. При этом достигуть результата предсказания наилучшей модели по мерке F1 не меньше 0.75\n",
        "\n",
        "\n",
        "В нашем распоряжении был набор данных с разметкой о токсичности правок, но для правильной работы предсказательных алгоритмов моделей нам пришлось очистить комментарии от лишних символов и пр.мусора, а так же прибегнуть к балансировке выборок, т.к. сильный дисбаланс в классах мог негативно повлиять на качество предсказания моделей.\n",
        "\n",
        "Для определения наилучшей модели мы остановили наш выбор на трёх моделях LGBMClassifier, LogisticRegression и RandomForestClassifier. По итогам сравнеиня победила модель LogisticRegression, набрала наибольшее значение метрики на валидационной выборке  F1=0.76, поэтому её я выбрала для тестирования.\n",
        "\n",
        "На тестовых данных метрка F1 = 0.772, что подтвердило успешность выбора модели!"
      ]
    }
  ],
  "metadata": {
    "ExecuteTimeLog": [
      {
        "duration": 873,
        "start_time": "2023-05-17T10:01:17.418Z"
      },
      {
        "duration": 86,
        "start_time": "2023-05-17T10:01:18.976Z"
      },
      {
        "duration": 13,
        "start_time": "2023-05-17T10:01:27.780Z"
      },
      {
        "duration": 2898,
        "start_time": "2023-05-17T10:02:07.082Z"
      },
      {
        "duration": 13,
        "start_time": "2023-05-17T10:02:19.619Z"
      },
      {
        "duration": 3,
        "start_time": "2023-05-17T10:03:03.245Z"
      },
      {
        "duration": 9,
        "start_time": "2023-05-17T10:03:47.723Z"
      },
      {
        "duration": 7,
        "start_time": "2023-05-17T10:04:08.036Z"
      },
      {
        "duration": 27,
        "start_time": "2023-05-17T10:04:14.932Z"
      },
      {
        "duration": 249,
        "start_time": "2023-05-17T10:04:35.272Z"
      },
      {
        "duration": 910,
        "start_time": "2023-05-17T10:05:22.119Z"
      },
      {
        "duration": 6,
        "start_time": "2023-05-17T10:05:30.485Z"
      },
      {
        "duration": 5,
        "start_time": "2023-05-17T10:05:44.225Z"
      },
      {
        "duration": 4,
        "start_time": "2023-05-17T10:15:02.834Z"
      },
      {
        "duration": 5,
        "start_time": "2023-05-17T10:15:34.016Z"
      },
      {
        "duration": 5,
        "start_time": "2023-05-17T10:16:10.735Z"
      },
      {
        "duration": 3,
        "start_time": "2023-05-17T10:16:18.181Z"
      },
      {
        "duration": 55,
        "start_time": "2023-05-18T07:28:18.992Z"
      },
      {
        "duration": 747,
        "start_time": "2023-05-18T07:28:20.988Z"
      },
      {
        "duration": 3540,
        "start_time": "2023-05-18T07:28:22.601Z"
      },
      {
        "duration": 12,
        "start_time": "2023-05-18T07:28:29.066Z"
      },
      {
        "duration": 4,
        "start_time": "2023-05-18T07:28:31.197Z"
      },
      {
        "duration": 6,
        "start_time": "2023-05-18T07:28:32.062Z"
      },
      {
        "duration": 253,
        "start_time": "2023-05-18T07:28:33.822Z"
      },
      {
        "duration": 6,
        "start_time": "2023-05-18T07:28:34.558Z"
      },
      {
        "duration": 5,
        "start_time": "2023-05-18T07:28:35.954Z"
      },
      {
        "duration": 3,
        "start_time": "2023-05-18T07:28:36.892Z"
      },
      {
        "duration": 5,
        "start_time": "2023-05-18T07:30:04.682Z"
      },
      {
        "duration": 3,
        "start_time": "2023-05-18T07:30:20.692Z"
      },
      {
        "duration": 4,
        "start_time": "2023-05-18T07:30:26.094Z"
      },
      {
        "duration": 5,
        "start_time": "2023-05-18T07:30:40.005Z"
      },
      {
        "duration": 4,
        "start_time": "2023-05-18T07:30:55.670Z"
      },
      {
        "duration": 5,
        "start_time": "2023-05-18T07:31:09.381Z"
      },
      {
        "duration": 54826,
        "start_time": "2023-05-18T07:32:17.316Z"
      },
      {
        "duration": 8,
        "start_time": "2023-05-18T07:33:43.393Z"
      },
      {
        "duration": 269,
        "start_time": "2023-05-18T07:33:53.066Z"
      },
      {
        "duration": 6,
        "start_time": "2023-05-18T07:34:37.362Z"
      },
      {
        "duration": 3,
        "start_time": "2023-05-18T07:34:40.678Z"
      },
      {
        "duration": 243,
        "start_time": "2023-05-18T07:34:41.482Z"
      },
      {
        "duration": 225,
        "start_time": "2023-05-18T07:34:50.807Z"
      },
      {
        "duration": 11,
        "start_time": "2023-05-18T07:34:59.866Z"
      },
      {
        "duration": 216,
        "start_time": "2023-05-18T07:35:00.792Z"
      },
      {
        "duration": 3,
        "start_time": "2023-05-18T07:47:50.292Z"
      },
      {
        "duration": 10,
        "start_time": "2023-05-18T07:47:52.238Z"
      },
      {
        "duration": 4,
        "start_time": "2023-05-18T07:47:58.858Z"
      },
      {
        "duration": 3,
        "start_time": "2023-05-18T07:47:59.396Z"
      },
      {
        "duration": 878,
        "start_time": "2023-05-18T07:47:59.918Z"
      },
      {
        "duration": 3,
        "start_time": "2023-05-18T07:48:20.708Z"
      },
      {
        "duration": 3,
        "start_time": "2023-05-18T07:48:21.100Z"
      },
      {
        "duration": 3,
        "start_time": "2023-05-18T07:48:21.582Z"
      },
      {
        "duration": 1176,
        "start_time": "2023-05-18T07:53:19.151Z"
      },
      {
        "duration": 10,
        "start_time": "2023-05-18T07:53:45.430Z"
      },
      {
        "duration": 11,
        "start_time": "2023-05-18T07:54:02.358Z"
      },
      {
        "duration": 12,
        "start_time": "2023-05-18T07:54:17.014Z"
      },
      {
        "duration": 1732,
        "start_time": "2023-05-18T07:54:34.790Z"
      },
      {
        "duration": 13,
        "start_time": "2023-05-18T07:55:06.782Z"
      },
      {
        "duration": 54,
        "start_time": "2023-05-18T07:55:24.266Z"
      },
      {
        "duration": 10,
        "start_time": "2023-05-18T07:55:49.274Z"
      },
      {
        "duration": 6,
        "start_time": "2023-05-18T07:56:00.767Z"
      },
      {
        "duration": 931,
        "start_time": "2023-05-18T07:56:38.975Z"
      },
      {
        "duration": 10,
        "start_time": "2023-05-18T07:56:39.908Z"
      },
      {
        "duration": 3,
        "start_time": "2023-05-18T07:56:41.267Z"
      },
      {
        "duration": 8,
        "start_time": "2023-05-18T07:56:41.765Z"
      },
      {
        "duration": 240,
        "start_time": "2023-05-18T07:56:45.495Z"
      },
      {
        "duration": 6,
        "start_time": "2023-05-18T07:56:47.086Z"
      },
      {
        "duration": 4,
        "start_time": "2023-05-18T07:56:49.183Z"
      },
      {
        "duration": 843,
        "start_time": "2023-05-18T07:59:25.930Z"
      },
      {
        "duration": 7,
        "start_time": "2023-05-18T07:59:28.658Z"
      },
      {
        "duration": 4,
        "start_time": "2023-05-18T07:59:31.722Z"
      },
      {
        "duration": 5,
        "start_time": "2023-05-18T07:59:34.478Z"
      },
      {
        "duration": 234,
        "start_time": "2023-05-18T07:59:37.417Z"
      },
      {
        "duration": 3,
        "start_time": "2023-05-18T08:00:44.615Z"
      },
      {
        "duration": 7739,
        "start_time": "2023-05-18T08:05:09.320Z"
      },
      {
        "duration": 65,
        "start_time": "2023-05-18T08:09:26.987Z"
      },
      {
        "duration": 44,
        "start_time": "2023-05-18T08:09:35.677Z"
      },
      {
        "duration": 3887,
        "start_time": "2023-05-18T08:10:47.891Z"
      },
      {
        "duration": 12,
        "start_time": "2023-05-18T08:12:36.961Z"
      },
      {
        "duration": 3,
        "start_time": "2023-05-18T08:12:40.206Z"
      },
      {
        "duration": 9,
        "start_time": "2023-05-18T08:12:40.987Z"
      },
      {
        "duration": 4069,
        "start_time": "2023-05-18T08:13:06.344Z"
      },
      {
        "duration": 6,
        "start_time": "2023-05-18T08:13:24.026Z"
      },
      {
        "duration": 4,
        "start_time": "2023-05-18T08:13:30.099Z"
      },
      {
        "duration": 1244,
        "start_time": "2023-05-18T08:13:30.789Z"
      },
      {
        "duration": 6,
        "start_time": "2023-05-18T08:13:33.060Z"
      },
      {
        "duration": 3,
        "start_time": "2023-05-18T08:14:03.258Z"
      },
      {
        "duration": 1209,
        "start_time": "2023-05-18T08:14:03.670Z"
      },
      {
        "duration": 5,
        "start_time": "2023-05-18T08:14:05.486Z"
      },
      {
        "duration": 3,
        "start_time": "2023-05-18T08:16:15.666Z"
      },
      {
        "duration": 1147,
        "start_time": "2023-05-18T08:16:16.346Z"
      },
      {
        "duration": 5,
        "start_time": "2023-05-18T08:16:17.495Z"
      },
      {
        "duration": 3,
        "start_time": "2023-05-18T08:16:29.081Z"
      },
      {
        "duration": 1262,
        "start_time": "2023-05-18T08:16:30.325Z"
      },
      {
        "duration": 5,
        "start_time": "2023-05-18T08:16:33.788Z"
      },
      {
        "duration": 18,
        "start_time": "2023-05-18T08:17:04.455Z"
      },
      {
        "duration": 15,
        "start_time": "2023-05-18T08:17:22.724Z"
      },
      {
        "duration": 3,
        "start_time": "2023-05-18T08:22:23.767Z"
      },
      {
        "duration": 27,
        "start_time": "2023-05-18T08:22:24.172Z"
      },
      {
        "duration": 1132,
        "start_time": "2023-05-18T08:22:35.790Z"
      },
      {
        "duration": 5,
        "start_time": "2023-05-18T08:22:38.118Z"
      },
      {
        "duration": 3,
        "start_time": "2023-05-18T08:23:23.645Z"
      },
      {
        "duration": 1452,
        "start_time": "2023-05-18T08:23:24.475Z"
      },
      {
        "duration": 5,
        "start_time": "2023-05-18T08:23:25.929Z"
      },
      {
        "duration": 3,
        "start_time": "2023-05-18T08:25:46.449Z"
      },
      {
        "duration": 2,
        "start_time": "2023-05-18T08:25:46.839Z"
      },
      {
        "duration": 96580,
        "start_time": "2023-05-18T08:26:35.196Z"
      },
      {
        "duration": 1741,
        "start_time": "2023-05-18T08:28:38.616Z"
      },
      {
        "duration": 1052,
        "start_time": "2023-05-18T08:28:40.982Z"
      },
      {
        "duration": 13,
        "start_time": "2023-05-18T08:28:42.525Z"
      },
      {
        "duration": 5,
        "start_time": "2023-05-18T08:28:44.478Z"
      },
      {
        "duration": 7,
        "start_time": "2023-05-18T08:28:45.062Z"
      },
      {
        "duration": 256,
        "start_time": "2023-05-18T08:28:45.511Z"
      },
      {
        "duration": 3,
        "start_time": "2023-05-18T08:28:47.192Z"
      },
      {
        "duration": 4,
        "start_time": "2023-05-18T08:28:48.095Z"
      },
      {
        "duration": 4097,
        "start_time": "2023-05-18T08:28:52.588Z"
      },
      {
        "duration": 5,
        "start_time": "2023-05-18T08:29:11.358Z"
      },
      {
        "duration": 7189,
        "start_time": "2023-05-18T08:31:13.865Z"
      },
      {
        "duration": 3,
        "start_time": "2023-05-18T08:38:33.742Z"
      },
      {
        "duration": 117,
        "start_time": "2023-05-18T08:38:36.505Z"
      },
      {
        "duration": 5,
        "start_time": "2023-05-18T08:39:40.798Z"
      },
      {
        "duration": 29,
        "start_time": "2023-05-18T08:39:46.084Z"
      },
      {
        "duration": 5,
        "start_time": "2023-05-18T08:40:29.277Z"
      },
      {
        "duration": 28,
        "start_time": "2023-05-18T08:40:29.898Z"
      },
      {
        "duration": 5653,
        "start_time": "2023-05-18T08:41:51.330Z"
      },
      {
        "duration": 4,
        "start_time": "2023-05-18T08:42:06.213Z"
      },
      {
        "duration": 10,
        "start_time": "2023-05-18T08:42:16.438Z"
      },
      {
        "duration": 4,
        "start_time": "2023-05-18T08:42:21.361Z"
      },
      {
        "duration": 29,
        "start_time": "2023-05-18T08:44:14.313Z"
      },
      {
        "duration": 14,
        "start_time": "2023-05-18T08:44:23.518Z"
      },
      {
        "duration": 14,
        "start_time": "2023-05-18T08:45:05.818Z"
      },
      {
        "duration": 1665,
        "start_time": "2023-05-18T08:45:39.955Z"
      },
      {
        "duration": 853,
        "start_time": "2023-05-18T08:45:41.622Z"
      },
      {
        "duration": 10,
        "start_time": "2023-05-18T08:45:42.476Z"
      },
      {
        "duration": 3,
        "start_time": "2023-05-18T08:45:42.488Z"
      },
      {
        "duration": 30,
        "start_time": "2023-05-18T08:45:42.493Z"
      },
      {
        "duration": 217,
        "start_time": "2023-05-18T08:45:42.524Z"
      },
      {
        "duration": 3,
        "start_time": "2023-05-18T08:45:42.742Z"
      },
      {
        "duration": 6,
        "start_time": "2023-05-18T08:45:42.747Z"
      },
      {
        "duration": 3875,
        "start_time": "2023-05-18T08:45:42.754Z"
      },
      {
        "duration": 5,
        "start_time": "2023-05-18T08:45:46.631Z"
      },
      {
        "duration": 5,
        "start_time": "2023-05-18T08:45:46.638Z"
      },
      {
        "duration": 30,
        "start_time": "2023-05-18T08:45:46.645Z"
      },
      {
        "duration": 24,
        "start_time": "2023-05-18T08:45:54.209Z"
      },
      {
        "duration": 5972,
        "start_time": "2023-05-18T08:45:54.713Z"
      },
      {
        "duration": 1487,
        "start_time": "2023-05-18T08:46:07.617Z"
      },
      {
        "duration": 121,
        "start_time": "2023-05-18T08:47:33.565Z"
      },
      {
        "duration": 5,
        "start_time": "2023-05-18T08:48:28.629Z"
      },
      {
        "duration": 11,
        "start_time": "2023-05-18T08:48:32.781Z"
      },
      {
        "duration": 248045,
        "start_time": "2023-05-18T08:50:34.833Z"
      },
      {
        "duration": 6,
        "start_time": "2023-05-18T08:56:41.256Z"
      },
      {
        "duration": 6553,
        "start_time": "2023-05-18T08:58:41.961Z"
      },
      {
        "duration": 6,
        "start_time": "2023-05-18T08:58:52.060Z"
      },
      {
        "duration": 243917,
        "start_time": "2023-05-18T08:58:55.865Z"
      },
      {
        "duration": 11,
        "start_time": "2023-05-18T09:04:52.554Z"
      },
      {
        "duration": 78,
        "start_time": "2023-05-18T09:05:00.077Z"
      },
      {
        "duration": 106799,
        "start_time": "2023-05-18T09:05:06.265Z"
      },
      {
        "duration": 17,
        "start_time": "2023-05-18T09:08:18.976Z"
      },
      {
        "duration": 14,
        "start_time": "2023-05-18T09:08:25.957Z"
      },
      {
        "duration": 17,
        "start_time": "2023-05-18T09:09:09.429Z"
      },
      {
        "duration": 20,
        "start_time": "2023-05-18T09:09:57.269Z"
      },
      {
        "duration": 52,
        "start_time": "2023-05-18T09:10:40.790Z"
      },
      {
        "duration": 25584,
        "start_time": "2023-05-18T09:10:49.268Z"
      },
      {
        "duration": 134330,
        "start_time": "2023-05-18T09:11:39.587Z"
      },
      {
        "duration": 12,
        "start_time": "2023-05-18T09:18:21.765Z"
      },
      {
        "duration": 11,
        "start_time": "2023-05-18T09:18:35.646Z"
      },
      {
        "duration": 43227,
        "start_time": "2023-05-18T09:23:20.208Z"
      },
      {
        "duration": 17,
        "start_time": "2023-05-18T09:33:37.271Z"
      },
      {
        "duration": 52,
        "start_time": "2023-05-18T09:33:51.115Z"
      },
      {
        "duration": 139999,
        "start_time": "2023-05-18T09:34:12.800Z"
      },
      {
        "duration": 709483,
        "start_time": "2023-05-18T09:39:00.122Z"
      },
      {
        "duration": 395950,
        "start_time": "2023-05-18T09:51:01.269Z"
      },
      {
        "duration": 26702,
        "start_time": "2023-05-18T09:58:47.057Z"
      },
      {
        "duration": 5216,
        "start_time": "2023-05-18T10:11:59.218Z"
      },
      {
        "duration": 1117,
        "start_time": "2023-05-18T10:12:04.439Z"
      },
      {
        "duration": 32,
        "start_time": "2023-05-18T10:12:05.557Z"
      },
      {
        "duration": 8,
        "start_time": "2023-05-18T10:12:08.027Z"
      },
      {
        "duration": 7,
        "start_time": "2023-05-18T10:12:08.522Z"
      },
      {
        "duration": 0,
        "start_time": "2023-05-18T10:12:33.466Z"
      },
      {
        "duration": 100,
        "start_time": "2023-05-18T10:12:48.027Z"
      },
      {
        "duration": 1058,
        "start_time": "2023-05-18T10:12:49.988Z"
      },
      {
        "duration": 8,
        "start_time": "2023-05-18T10:12:51.048Z"
      },
      {
        "duration": 9,
        "start_time": "2023-05-18T10:12:52.802Z"
      },
      {
        "duration": 10,
        "start_time": "2023-05-18T10:12:56.719Z"
      },
      {
        "duration": 33,
        "start_time": "2023-05-18T10:13:02.318Z"
      },
      {
        "duration": 15,
        "start_time": "2023-05-18T10:13:08.324Z"
      },
      {
        "duration": 499,
        "start_time": "2023-05-18T10:13:42.272Z"
      },
      {
        "duration": 25,
        "start_time": "2023-05-18T10:13:51.428Z"
      },
      {
        "duration": 5,
        "start_time": "2023-05-18T10:33:40.822Z"
      },
      {
        "duration": 853,
        "start_time": "2023-05-18T10:33:42.959Z"
      },
      {
        "duration": 10,
        "start_time": "2023-05-18T10:33:44.759Z"
      },
      {
        "duration": 4,
        "start_time": "2023-05-18T10:33:45.448Z"
      },
      {
        "duration": 9,
        "start_time": "2023-05-18T10:33:45.910Z"
      },
      {
        "duration": 11,
        "start_time": "2023-05-18T10:33:47.605Z"
      },
      {
        "duration": 32614,
        "start_time": "2023-05-18T10:34:04.207Z"
      },
      {
        "duration": 0,
        "start_time": "2023-05-18T10:34:36.825Z"
      },
      {
        "duration": 2118,
        "start_time": "2023-05-18T10:34:48.095Z"
      },
      {
        "duration": 897,
        "start_time": "2023-05-18T10:34:51.870Z"
      },
      {
        "duration": 10,
        "start_time": "2023-05-18T10:34:53.542Z"
      },
      {
        "duration": 4,
        "start_time": "2023-05-18T10:34:54.670Z"
      },
      {
        "duration": 6,
        "start_time": "2023-05-18T10:34:55.559Z"
      },
      {
        "duration": 239,
        "start_time": "2023-05-18T10:34:56.692Z"
      },
      {
        "duration": 3,
        "start_time": "2023-05-18T10:34:58.003Z"
      },
      {
        "duration": 4,
        "start_time": "2023-05-18T10:34:58.688Z"
      },
      {
        "duration": 4564,
        "start_time": "2023-05-18T10:35:00.267Z"
      },
      {
        "duration": 5,
        "start_time": "2023-05-18T10:35:04.832Z"
      },
      {
        "duration": 6,
        "start_time": "2023-05-18T11:03:55.255Z"
      },
      {
        "duration": 953,
        "start_time": "2023-05-18T11:03:56.955Z"
      },
      {
        "duration": 8,
        "start_time": "2023-05-18T11:03:58.555Z"
      },
      {
        "duration": 10,
        "start_time": "2023-05-18T11:04:00.498Z"
      },
      {
        "duration": 11,
        "start_time": "2023-05-18T11:04:01.077Z"
      },
      {
        "duration": 245,
        "start_time": "2023-05-18T11:04:02.204Z"
      },
      {
        "duration": 4,
        "start_time": "2023-05-18T11:04:04.020Z"
      },
      {
        "duration": 4,
        "start_time": "2023-05-18T11:04:04.477Z"
      },
      {
        "duration": 4461,
        "start_time": "2023-05-18T11:04:05.856Z"
      },
      {
        "duration": 5,
        "start_time": "2023-05-18T11:04:10.319Z"
      },
      {
        "duration": 3,
        "start_time": "2023-05-18T11:04:13.015Z"
      },
      {
        "duration": 32,
        "start_time": "2023-05-18T11:04:14.294Z"
      },
      {
        "duration": 6511,
        "start_time": "2023-05-18T11:04:14.863Z"
      },
      {
        "duration": 1524,
        "start_time": "2023-05-18T11:04:21.382Z"
      },
      {
        "duration": 136,
        "start_time": "2023-05-18T11:05:17.386Z"
      },
      {
        "duration": 6,
        "start_time": "2023-05-18T11:05:26.800Z"
      },
      {
        "duration": 9530,
        "start_time": "2023-05-18T11:17:13.463Z"
      },
      {
        "duration": 15,
        "start_time": "2023-05-18T11:17:43.264Z"
      },
      {
        "duration": 2343,
        "start_time": "2023-05-18T11:18:53.192Z"
      },
      {
        "duration": 31,
        "start_time": "2023-05-18T11:19:00.209Z"
      },
      {
        "duration": 2368,
        "start_time": "2023-05-18T11:19:42.973Z"
      },
      {
        "duration": 1796,
        "start_time": "2023-05-18T11:19:47.193Z"
      },
      {
        "duration": 922,
        "start_time": "2023-05-18T11:19:51.544Z"
      },
      {
        "duration": 14,
        "start_time": "2023-05-18T11:19:52.882Z"
      },
      {
        "duration": 4,
        "start_time": "2023-05-18T11:19:53.455Z"
      },
      {
        "duration": 9,
        "start_time": "2023-05-18T11:19:53.863Z"
      },
      {
        "duration": 261,
        "start_time": "2023-05-18T11:19:55.660Z"
      },
      {
        "duration": 10,
        "start_time": "2023-05-18T11:19:56.175Z"
      },
      {
        "duration": 4,
        "start_time": "2023-05-18T11:19:57.752Z"
      },
      {
        "duration": 4547,
        "start_time": "2023-05-18T11:19:58.251Z"
      },
      {
        "duration": 6,
        "start_time": "2023-05-18T11:20:02.800Z"
      },
      {
        "duration": 22,
        "start_time": "2023-05-18T11:20:02.807Z"
      },
      {
        "duration": 25,
        "start_time": "2023-05-18T11:20:03.665Z"
      },
      {
        "duration": 154,
        "start_time": "2023-05-18T11:20:04.267Z"
      },
      {
        "duration": 14,
        "start_time": "2023-05-18T11:20:10.387Z"
      },
      {
        "duration": 22,
        "start_time": "2023-05-18T11:20:12.902Z"
      },
      {
        "duration": 15,
        "start_time": "2023-05-18T11:20:15.043Z"
      },
      {
        "duration": 6499,
        "start_time": "2023-05-18T11:20:40.794Z"
      },
      {
        "duration": 1573,
        "start_time": "2023-05-18T11:20:50.200Z"
      },
      {
        "duration": 85876,
        "start_time": "2023-05-18T11:20:54.268Z"
      },
      {
        "duration": 22,
        "start_time": "2023-05-18T11:22:26.951Z"
      },
      {
        "duration": 11,
        "start_time": "2023-05-18T11:22:34.443Z"
      },
      {
        "duration": 12,
        "start_time": "2023-05-18T11:22:40.451Z"
      },
      {
        "duration": 13,
        "start_time": "2023-05-18T11:22:55.745Z"
      },
      {
        "duration": 12,
        "start_time": "2023-05-18T11:23:09.901Z"
      },
      {
        "duration": 6,
        "start_time": "2023-05-18T11:23:14.189Z"
      },
      {
        "duration": 29,
        "start_time": "2023-05-18T11:23:41.379Z"
      },
      {
        "duration": 4,
        "start_time": "2023-05-18T11:23:57.300Z"
      },
      {
        "duration": 240085,
        "start_time": "2023-05-18T11:24:16.655Z"
      },
      {
        "duration": 237193,
        "start_time": "2023-05-18T11:28:46.989Z"
      },
      {
        "duration": 154,
        "start_time": "2023-05-18T11:33:23.690Z"
      },
      {
        "duration": 157,
        "start_time": "2023-05-18T11:33:37.255Z"
      },
      {
        "duration": 153,
        "start_time": "2023-05-18T11:33:42.576Z"
      },
      {
        "duration": 10,
        "start_time": "2023-05-18T11:34:45.447Z"
      },
      {
        "duration": 4,
        "start_time": "2023-05-18T11:43:12.159Z"
      },
      {
        "duration": 15,
        "start_time": "2023-05-18T11:43:13.996Z"
      },
      {
        "duration": 4,
        "start_time": "2023-05-18T11:43:56.532Z"
      },
      {
        "duration": 473,
        "start_time": "2023-05-18T11:43:57.200Z"
      },
      {
        "duration": 195252,
        "start_time": "2023-05-18T11:45:57.047Z"
      },
      {
        "duration": 524695,
        "start_time": "2023-05-18T11:50:28.701Z"
      },
      {
        "duration": 135221,
        "start_time": "2023-05-18T11:59:40.159Z"
      },
      {
        "duration": 239302,
        "start_time": "2023-05-18T12:02:40.101Z"
      },
      {
        "duration": 12,
        "start_time": "2023-05-18T12:06:58.199Z"
      },
      {
        "duration": 9,
        "start_time": "2023-05-18T12:07:07.889Z"
      },
      {
        "duration": 14,
        "start_time": "2023-05-18T12:07:11.738Z"
      },
      {
        "duration": 12238,
        "start_time": "2023-05-18T12:10:28.243Z"
      },
      {
        "duration": 61389,
        "start_time": "2023-05-18T12:10:49.904Z"
      },
      {
        "duration": 84,
        "start_time": "2023-05-18T12:11:51.296Z"
      },
      {
        "duration": 4,
        "start_time": "2023-05-18T12:12:55.648Z"
      },
      {
        "duration": 7439,
        "start_time": "2023-05-20T11:54:39.376Z"
      },
      {
        "duration": 2692,
        "start_time": "2023-05-20T11:54:46.817Z"
      },
      {
        "duration": 3720,
        "start_time": "2023-05-20T11:55:08.152Z"
      },
      {
        "duration": 31,
        "start_time": "2023-05-20T11:55:30.704Z"
      },
      {
        "duration": 4,
        "start_time": "2023-05-20T11:55:33.768Z"
      },
      {
        "duration": 6,
        "start_time": "2023-05-20T11:55:35.783Z"
      },
      {
        "duration": 211,
        "start_time": "2023-05-20T11:55:36.985Z"
      },
      {
        "duration": 39,
        "start_time": "2023-05-20T11:55:42.711Z"
      },
      {
        "duration": 32,
        "start_time": "2023-05-20T11:55:44.719Z"
      },
      {
        "duration": 253,
        "start_time": "2023-05-20T11:55:45.117Z"
      },
      {
        "duration": 8,
        "start_time": "2023-05-20T11:55:53.835Z"
      },
      {
        "duration": 4,
        "start_time": "2023-05-20T11:55:55.704Z"
      },
      {
        "duration": 1337,
        "start_time": "2023-05-20T11:55:56.492Z"
      },
      {
        "duration": 292,
        "start_time": "2023-05-20T11:56:09.423Z"
      },
      {
        "duration": 5346,
        "start_time": "2023-05-20T11:56:11.320Z"
      },
      {
        "duration": 1512953,
        "start_time": "2023-05-20T11:56:17.840Z"
      },
      {
        "duration": 60,
        "start_time": "2023-05-20T12:21:30.796Z"
      },
      {
        "duration": 5,
        "start_time": "2023-05-20T12:25:27.864Z"
      },
      {
        "duration": 3,
        "start_time": "2023-05-20T12:25:33.463Z"
      },
      {
        "duration": 80,
        "start_time": "2023-05-20T12:25:34.018Z"
      },
      {
        "duration": 208,
        "start_time": "2023-05-20T12:25:39.682Z"
      },
      {
        "duration": 56,
        "start_time": "2023-05-20T12:25:48.709Z"
      },
      {
        "duration": 55,
        "start_time": "2023-05-20T12:26:13.845Z"
      },
      {
        "duration": 153130,
        "start_time": "2023-05-20T12:27:19.835Z"
      },
      {
        "duration": 289946,
        "start_time": "2023-05-20T12:30:54.529Z"
      },
      {
        "duration": 4,
        "start_time": "2023-05-20T12:40:20.451Z"
      },
      {
        "duration": 16,
        "start_time": "2023-05-20T12:40:42.126Z"
      },
      {
        "duration": 3,
        "start_time": "2023-05-20T12:40:56.948Z"
      },
      {
        "duration": 12,
        "start_time": "2023-05-20T12:41:09.872Z"
      },
      {
        "duration": 4,
        "start_time": "2023-05-20T12:42:29.027Z"
      },
      {
        "duration": 8,
        "start_time": "2023-05-20T12:42:29.999Z"
      },
      {
        "duration": 59,
        "start_time": "2023-05-20T12:42:41.093Z"
      },
      {
        "duration": 4,
        "start_time": "2023-05-20T12:42:44.644Z"
      },
      {
        "duration": 10,
        "start_time": "2023-05-20T12:42:47.401Z"
      },
      {
        "duration": 1539,
        "start_time": "2023-05-20T12:43:09.906Z"
      },
      {
        "duration": 27127,
        "start_time": "2023-05-20T12:43:43.088Z"
      },
      {
        "duration": 8466,
        "start_time": "2023-08-01T08:32:48.101Z"
      },
      {
        "duration": 2727,
        "start_time": "2023-08-01T08:32:56.570Z"
      },
      {
        "duration": 2342,
        "start_time": "2023-08-01T08:32:59.299Z"
      },
      {
        "duration": 15,
        "start_time": "2023-08-01T08:33:01.644Z"
      },
      {
        "duration": 54,
        "start_time": "2023-08-01T08:33:01.660Z"
      },
      {
        "duration": 63,
        "start_time": "2023-08-01T08:33:01.716Z"
      },
      {
        "duration": 209,
        "start_time": "2023-08-01T08:33:01.781Z"
      },
      {
        "duration": 35,
        "start_time": "2023-08-01T08:33:01.991Z"
      },
      {
        "duration": 50,
        "start_time": "2023-08-01T08:33:02.028Z"
      },
      {
        "duration": 256,
        "start_time": "2023-08-01T08:33:02.081Z"
      },
      {
        "duration": 5,
        "start_time": "2023-08-01T08:33:02.339Z"
      },
      {
        "duration": 19,
        "start_time": "2023-08-01T08:33:02.345Z"
      },
      {
        "duration": 1439,
        "start_time": "2023-08-01T08:33:02.366Z"
      },
      {
        "duration": 264,
        "start_time": "2023-08-01T08:33:03.807Z"
      },
      {
        "duration": 4993,
        "start_time": "2023-08-01T08:33:04.073Z"
      },
      {
        "duration": 167268,
        "start_time": "2023-08-01T08:33:09.067Z"
      },
      {
        "duration": 6,
        "start_time": "2023-08-01T08:35:56.337Z"
      },
      {
        "duration": 11,
        "start_time": "2023-08-01T08:35:56.345Z"
      },
      {
        "duration": 61,
        "start_time": "2023-08-01T08:35:56.358Z"
      },
      {
        "duration": 6,
        "start_time": "2023-08-01T08:35:59.345Z"
      },
      {
        "duration": 3,
        "start_time": "2023-08-01T08:36:05.997Z"
      },
      {
        "duration": 59,
        "start_time": "2023-08-01T08:36:06.812Z"
      },
      {
        "duration": 5,
        "start_time": "2023-08-01T08:36:07.236Z"
      },
      {
        "duration": 5,
        "start_time": "2023-08-01T08:36:24.966Z"
      }
    ],
    "colab": {
      "provenance": []
    },
    "kernelspec": {
      "display_name": "Python 3 (ipykernel)",
      "language": "python",
      "name": "python3"
    },
    "language_info": {
      "codemirror_mode": {
        "name": "ipython",
        "version": 3
      },
      "file_extension": ".py",
      "mimetype": "text/x-python",
      "name": "python",
      "nbconvert_exporter": "python",
      "pygments_lexer": "ipython3",
      "version": "3.9.5"
    },
    "toc": {
      "base_numbering": 1,
      "nav_menu": {},
      "number_sections": true,
      "sideBar": true,
      "skip_h1_title": true,
      "title_cell": "Содержание",
      "title_sidebar": "Contents",
      "toc_cell": true,
      "toc_position": {
        "height": "calc(100% - 180px)",
        "left": "10px",
        "top": "150px",
        "width": "302.391px"
      },
      "toc_section_display": true,
      "toc_window_display": false
    },
    "widgets": {
      "application/vnd.jupyter.widget-state+json": {
        "13820b7e69df486a8d66f96efc99836d": {
          "model_module": "@jupyter-widgets/controls",
          "model_module_version": "1.5.0",
          "model_name": "ProgressStyleModel",
          "state": {
            "_model_module": "@jupyter-widgets/controls",
            "_model_module_version": "1.5.0",
            "_model_name": "ProgressStyleModel",
            "_view_count": null,
            "_view_module": "@jupyter-widgets/base",
            "_view_module_version": "1.2.0",
            "_view_name": "StyleView",
            "bar_color": null,
            "description_width": ""
          }
        },
        "276ecf3a30894892bfab877ad58257c2": {
          "model_module": "@jupyter-widgets/controls",
          "model_module_version": "1.5.0",
          "model_name": "DescriptionStyleModel",
          "state": {
            "_model_module": "@jupyter-widgets/controls",
            "_model_module_version": "1.5.0",
            "_model_name": "DescriptionStyleModel",
            "_view_count": null,
            "_view_module": "@jupyter-widgets/base",
            "_view_module_version": "1.2.0",
            "_view_name": "StyleView",
            "description_width": ""
          }
        },
        "3979e49ff4bb429aa2e442560ab59bfd": {
          "model_module": "@jupyter-widgets/base",
          "model_module_version": "1.2.0",
          "model_name": "LayoutModel",
          "state": {
            "_model_module": "@jupyter-widgets/base",
            "_model_module_version": "1.2.0",
            "_model_name": "LayoutModel",
            "_view_count": null,
            "_view_module": "@jupyter-widgets/base",
            "_view_module_version": "1.2.0",
            "_view_name": "LayoutView",
            "align_content": null,
            "align_items": null,
            "align_self": null,
            "border": null,
            "bottom": null,
            "display": null,
            "flex": null,
            "flex_flow": null,
            "grid_area": null,
            "grid_auto_columns": null,
            "grid_auto_flow": null,
            "grid_auto_rows": null,
            "grid_column": null,
            "grid_gap": null,
            "grid_row": null,
            "grid_template_areas": null,
            "grid_template_columns": null,
            "grid_template_rows": null,
            "height": null,
            "justify_content": null,
            "justify_items": null,
            "left": null,
            "margin": null,
            "max_height": null,
            "max_width": null,
            "min_height": null,
            "min_width": null,
            "object_fit": null,
            "object_position": null,
            "order": null,
            "overflow": null,
            "overflow_x": null,
            "overflow_y": null,
            "padding": null,
            "right": null,
            "top": null,
            "visibility": null,
            "width": null
          }
        },
        "54ae093f81b446678f755c88ce3dd23a": {
          "model_module": "@jupyter-widgets/controls",
          "model_module_version": "1.5.0",
          "model_name": "FloatProgressModel",
          "state": {
            "_dom_classes": [],
            "_model_module": "@jupyter-widgets/controls",
            "_model_module_version": "1.5.0",
            "_model_name": "FloatProgressModel",
            "_view_count": null,
            "_view_module": "@jupyter-widgets/controls",
            "_view_module_version": "1.5.0",
            "_view_name": "ProgressView",
            "bar_style": "success",
            "description": "",
            "description_tooltip": null,
            "layout": "IPY_MODEL_3979e49ff4bb429aa2e442560ab59bfd",
            "max": 159292,
            "min": 0,
            "orientation": "horizontal",
            "style": "IPY_MODEL_13820b7e69df486a8d66f96efc99836d",
            "value": 159292
          }
        },
        "55cae0084c41434e93e206085551784b": {
          "model_module": "@jupyter-widgets/base",
          "model_module_version": "1.2.0",
          "model_name": "LayoutModel",
          "state": {
            "_model_module": "@jupyter-widgets/base",
            "_model_module_version": "1.2.0",
            "_model_name": "LayoutModel",
            "_view_count": null,
            "_view_module": "@jupyter-widgets/base",
            "_view_module_version": "1.2.0",
            "_view_name": "LayoutView",
            "align_content": null,
            "align_items": null,
            "align_self": null,
            "border": null,
            "bottom": null,
            "display": null,
            "flex": null,
            "flex_flow": null,
            "grid_area": null,
            "grid_auto_columns": null,
            "grid_auto_flow": null,
            "grid_auto_rows": null,
            "grid_column": null,
            "grid_gap": null,
            "grid_row": null,
            "grid_template_areas": null,
            "grid_template_columns": null,
            "grid_template_rows": null,
            "height": null,
            "justify_content": null,
            "justify_items": null,
            "left": null,
            "margin": null,
            "max_height": null,
            "max_width": null,
            "min_height": null,
            "min_width": null,
            "object_fit": null,
            "object_position": null,
            "order": null,
            "overflow": null,
            "overflow_x": null,
            "overflow_y": null,
            "padding": null,
            "right": null,
            "top": null,
            "visibility": null,
            "width": null
          }
        },
        "5d911e8597a5499681ee5cb1eb00309b": {
          "model_module": "@jupyter-widgets/base",
          "model_module_version": "1.2.0",
          "model_name": "LayoutModel",
          "state": {
            "_model_module": "@jupyter-widgets/base",
            "_model_module_version": "1.2.0",
            "_model_name": "LayoutModel",
            "_view_count": null,
            "_view_module": "@jupyter-widgets/base",
            "_view_module_version": "1.2.0",
            "_view_name": "LayoutView",
            "align_content": null,
            "align_items": null,
            "align_self": null,
            "border": null,
            "bottom": null,
            "display": null,
            "flex": null,
            "flex_flow": null,
            "grid_area": null,
            "grid_auto_columns": null,
            "grid_auto_flow": null,
            "grid_auto_rows": null,
            "grid_column": null,
            "grid_gap": null,
            "grid_row": null,
            "grid_template_areas": null,
            "grid_template_columns": null,
            "grid_template_rows": null,
            "height": null,
            "justify_content": null,
            "justify_items": null,
            "left": null,
            "margin": null,
            "max_height": null,
            "max_width": null,
            "min_height": null,
            "min_width": null,
            "object_fit": null,
            "object_position": null,
            "order": null,
            "overflow": null,
            "overflow_x": null,
            "overflow_y": null,
            "padding": null,
            "right": null,
            "top": null,
            "visibility": null,
            "width": null
          }
        },
        "67dfbadf810646c081865a34c00eeddf": {
          "model_module": "@jupyter-widgets/controls",
          "model_module_version": "1.5.0",
          "model_name": "HTMLModel",
          "state": {
            "_dom_classes": [],
            "_model_module": "@jupyter-widgets/controls",
            "_model_module_version": "1.5.0",
            "_model_name": "HTMLModel",
            "_view_count": null,
            "_view_module": "@jupyter-widgets/controls",
            "_view_module_version": "1.5.0",
            "_view_name": "HTMLView",
            "description": "",
            "description_tooltip": null,
            "layout": "IPY_MODEL_8a003d71578045408efa1ad3a4c20830",
            "placeholder": "​",
            "style": "IPY_MODEL_276ecf3a30894892bfab877ad58257c2",
            "value": " 159292/159292 [00:05&lt;00:00, 27618.48it/s]"
          }
        },
        "7a9a92d77242465cbdebf75d7e7009b2": {
          "model_module": "@jupyter-widgets/controls",
          "model_module_version": "1.5.0",
          "model_name": "HBoxModel",
          "state": {
            "_dom_classes": [],
            "_model_module": "@jupyter-widgets/controls",
            "_model_module_version": "1.5.0",
            "_model_name": "HBoxModel",
            "_view_count": null,
            "_view_module": "@jupyter-widgets/controls",
            "_view_module_version": "1.5.0",
            "_view_name": "HBoxView",
            "box_style": "",
            "children": [
              "IPY_MODEL_ae1ccb3bddcd4936bf2741572fca6781",
              "IPY_MODEL_54ae093f81b446678f755c88ce3dd23a",
              "IPY_MODEL_67dfbadf810646c081865a34c00eeddf"
            ],
            "layout": "IPY_MODEL_5d911e8597a5499681ee5cb1eb00309b"
          }
        },
        "8a003d71578045408efa1ad3a4c20830": {
          "model_module": "@jupyter-widgets/base",
          "model_module_version": "1.2.0",
          "model_name": "LayoutModel",
          "state": {
            "_model_module": "@jupyter-widgets/base",
            "_model_module_version": "1.2.0",
            "_model_name": "LayoutModel",
            "_view_count": null,
            "_view_module": "@jupyter-widgets/base",
            "_view_module_version": "1.2.0",
            "_view_name": "LayoutView",
            "align_content": null,
            "align_items": null,
            "align_self": null,
            "border": null,
            "bottom": null,
            "display": null,
            "flex": null,
            "flex_flow": null,
            "grid_area": null,
            "grid_auto_columns": null,
            "grid_auto_flow": null,
            "grid_auto_rows": null,
            "grid_column": null,
            "grid_gap": null,
            "grid_row": null,
            "grid_template_areas": null,
            "grid_template_columns": null,
            "grid_template_rows": null,
            "height": null,
            "justify_content": null,
            "justify_items": null,
            "left": null,
            "margin": null,
            "max_height": null,
            "max_width": null,
            "min_height": null,
            "min_width": null,
            "object_fit": null,
            "object_position": null,
            "order": null,
            "overflow": null,
            "overflow_x": null,
            "overflow_y": null,
            "padding": null,
            "right": null,
            "top": null,
            "visibility": null,
            "width": null
          }
        },
        "ae1ccb3bddcd4936bf2741572fca6781": {
          "model_module": "@jupyter-widgets/controls",
          "model_module_version": "1.5.0",
          "model_name": "HTMLModel",
          "state": {
            "_dom_classes": [],
            "_model_module": "@jupyter-widgets/controls",
            "_model_module_version": "1.5.0",
            "_model_name": "HTMLModel",
            "_view_count": null,
            "_view_module": "@jupyter-widgets/controls",
            "_view_module_version": "1.5.0",
            "_view_name": "HTMLView",
            "description": "",
            "description_tooltip": null,
            "layout": "IPY_MODEL_55cae0084c41434e93e206085551784b",
            "placeholder": "​",
            "style": "IPY_MODEL_d776f1469ba040f1b52362793d1a561b",
            "value": "100%"
          }
        },
        "d776f1469ba040f1b52362793d1a561b": {
          "model_module": "@jupyter-widgets/controls",
          "model_module_version": "1.5.0",
          "model_name": "DescriptionStyleModel",
          "state": {
            "_model_module": "@jupyter-widgets/controls",
            "_model_module_version": "1.5.0",
            "_model_name": "DescriptionStyleModel",
            "_view_count": null,
            "_view_module": "@jupyter-widgets/base",
            "_view_module_version": "1.2.0",
            "_view_name": "StyleView",
            "description_width": ""
          }
        }
      }
    }
  },
  "nbformat": 4,
  "nbformat_minor": 0
}